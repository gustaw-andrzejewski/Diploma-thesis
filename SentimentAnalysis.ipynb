{
 "cells": [
  {
   "cell_type": "code",
   "execution_count": null,
   "metadata": {},
   "outputs": [],
   "source": [
    "import glob\n",
    "import pandas as pd\n",
    "\n",
    "# get data file names\n",
    "path =r'D:/VisualStudioCode/twitter data/bitcoin'\n",
    "filenames = glob.glob(path + \"/*.csv\")\n",
    "\n",
    "dfs = []\n",
    "for filename in filenames:\n",
    "    dfs.append(pd.read_csv(filename))\n",
    "\n",
    "path1 =r'D:/VisualStudioCode/twitter data/ethereum'\n",
    "filenames1 = glob.glob(path1 + \"/*.csv\")\n",
    "\n",
    "dfs1 = []\n",
    "for filename in filenames1:\n",
    "    dfs1.append(pd.read_csv(filename))\n",
    "\n",
    "path2 =r'D:/VisualStudioCode/twitter data/litecoin'\n",
    "filenames2 = glob.glob(path2 + \"/*.csv\")\n",
    "\n",
    "dfs2 = []\n",
    "for filename in filenames2:\n",
    "    dfs2.append(pd.read_csv(filename))\n",
    "\n",
    "# Concatenate all data into one DataFrame\n",
    "bitcoin_df = pd.concat(dfs, ignore_index=True)\n",
    "bitcoin_df = pd.DataFrame(bitcoin_df[['tweets','likes','time']])\n",
    "\n",
    "ethereum_df = pd.concat(dfs1, ignore_index=True)\n",
    "ethereum_df = pd.DataFrame(ethereum_df[['tweets','likes','time']])\n",
    "\n",
    "litecoin_df = pd.concat(dfs2, ignore_index=True)\n",
    "litecoin_df = pd.DataFrame(litecoin_df[['tweets','likes','time']])\n",
    "\n",
    "bitcoin_df.head()\n"
   ]
  },
  {
   "cell_type": "code",
   "execution_count": null,
   "metadata": {},
   "outputs": [],
   "source": [
    "ethereum_df.head()"
   ]
  },
  {
   "cell_type": "code",
   "execution_count": null,
   "metadata": {},
   "outputs": [],
   "source": [
    "litecoin_df.head()"
   ]
  },
  {
   "cell_type": "code",
   "execution_count": null,
   "metadata": {},
   "outputs": [],
   "source": [
    "#dropping retweets\n",
    "bitcoin_df = bitcoin_df[~bitcoin_df.tweets.str.contains('RT')]\n",
    "bitcoin_df = bitcoin_df.reset_index(drop=True)\n",
    "\n",
    "ethereum_df = ethereum_df[~ethereum_df.tweets.str.contains('RT')]\n",
    "ethereum_df = ethereum_df.reset_index(drop=True)\n",
    "\n",
    "litecoin_df = litecoin_df[~litecoin_df.tweets.str.contains('RT')]\n",
    "litecoin_df = litecoin_df.reset_index(drop=True)"
   ]
  },
  {
   "cell_type": "code",
   "execution_count": null,
   "metadata": {},
   "outputs": [],
   "source": [
    "#initial cleaning of the tweets \n",
    "import re\n",
    "\n",
    "def cleanTweet(Tweet):\n",
    "    Tweet = re.sub('#[A-Za-z0-9]+',' ', Tweet)\n",
    "    Tweet = re.sub('@[A-Za-z0-9]+',' ', Tweet)\n",
    "    Tweet = re.sub('\\\\n', '', Tweet)\n",
    "    Tweet = re.sub('https?:\\/\\/\\S+',' ', Tweet)\n",
    "    Tweet = re.sub('[0-9]', ' ', Tweet)\n",
    "    return Tweet  \n",
    "\n",
    "bitcoin_df['tweets'] = bitcoin_df['tweets'].apply(cleanTweet)\n",
    "\n",
    "ethereum_df['tweets'] = ethereum_df['tweets'].apply(cleanTweet)\n",
    "\n",
    "litecoin_df['tweets'] = litecoin_df['tweets'].apply(cleanTweet)\n"
   ]
  },
  {
   "cell_type": "code",
   "execution_count": null,
   "metadata": {},
   "outputs": [],
   "source": [
    "bitcoin_df = pd.DataFrame(bitcoin_df[['tweets','time']])\n",
    "bitcoin_df['text'] = bitcoin_df['tweets']\n",
    "\n",
    "ethereum_df = pd.DataFrame(ethereum_df[['tweets','time']])\n",
    "ethereum_df['text'] = ethereum_df['tweets']\n",
    "\n",
    "litecoin_df = pd.DataFrame(litecoin_df[['tweets','time']])\n",
    "litecoin_df['text'] = litecoin_df['tweets']\n"
   ]
  },
  {
   "cell_type": "code",
   "execution_count": null,
   "metadata": {},
   "outputs": [],
   "source": [
    "#changing datetype\n",
    "\n",
    "bitcoin_df['time'] = pd.to_datetime(bitcoin_df.time)\n",
    "bitcoin_df['time'] = pd.to_datetime(bitcoin_df[\"time\"].dt.strftime('%m-%d-%Y'))\n",
    "\n",
    "ethereum_df['time'] = pd.to_datetime(ethereum_df.time)\n",
    "ethereum_df['time'] = pd.to_datetime(ethereum_df[\"time\"].dt.strftime('%m-%d-%Y'))\n",
    "\n",
    "litecoin_df['time'] = pd.to_datetime(litecoin_df.time)\n",
    "litecoin_df['time'] = pd.to_datetime(litecoin_df[\"time\"].dt.strftime('%m-%d-%Y'))\n"
   ]
  },
  {
   "cell_type": "code",
   "execution_count": null,
   "metadata": {},
   "outputs": [],
   "source": [
    "#lowercasing\n",
    "import string\n",
    "\n",
    "bitcoin_df['text'] = bitcoin_df[\"text\"].str.lower()\n",
    "\n",
    "ethereum_df['text'] = ethereum_df[\"text\"].str.lower()\n",
    "\n",
    "litecoin_df['text'] = litecoin_df[\"text\"].str.lower()"
   ]
  },
  {
   "cell_type": "code",
   "execution_count": null,
   "metadata": {},
   "outputs": [],
   "source": [
    "#removing punctuation\n",
    "\n",
    "def remove_punctuation(text):\n",
    "    return text.translate(str.maketrans('', '', string.punctuation))\n",
    "\n",
    "bitcoin_df[\"text\"] = bitcoin_df[\"text\"].apply(lambda text: remove_punctuation(text))\n",
    "\n",
    "ethereum_df[\"text\"] = ethereum_df[\"text\"].apply(lambda text: remove_punctuation(text))\n",
    "\n",
    "litecoin_df[\"text\"] = litecoin_df[\"text\"].apply(lambda text: remove_punctuation(text))"
   ]
  },
  {
   "cell_type": "code",
   "execution_count": null,
   "metadata": {},
   "outputs": [],
   "source": [
    "#removing stopwords\n",
    "\n",
    "from nltk.corpus import stopwords\n",
    "\n",
    "STOPWORDS = set(stopwords.words('english'))\n",
    "def remove_stopwords(text):\n",
    "    return \" \".join([word for word in str(text).split() if word not in STOPWORDS])\n",
    "\n",
    "bitcoin_df[\"text\"] = bitcoin_df[\"text\"].apply(lambda text: remove_stopwords(text))\n",
    "\n",
    "ethereum_df[\"text\"] = ethereum_df[\"text\"].apply(lambda text: remove_stopwords(text))\n",
    "\n",
    "litecoin_df[\"text\"] = litecoin_df[\"text\"].apply(lambda text: remove_stopwords(text))\n"
   ]
  },
  {
   "cell_type": "code",
   "execution_count": null,
   "metadata": {},
   "outputs": [],
   "source": [
    "#removing emojis\n",
    "import re\n",
    "def remove_emoji(string):\n",
    "    emoji_pattern = re.compile(\"[\"\n",
    "                           u\"\\U0001F600-\\U0001F64F\"  # emoticons\n",
    "                           u\"\\U0001F300-\\U0001F5FF\"  # symbols & pictographs\n",
    "                           u\"\\U0001F680-\\U0001F6FF\"  # transport & map symbols\n",
    "                           u\"\\U0001F1E0-\\U0001F1FF\"  # flags (iOS)\n",
    "                           u\"\\U00002702-\\U000027B0\"\n",
    "                           u\"\\U000024C2-\\U0001F251\"\n",
    "                           \"]+\", flags=re.UNICODE)\n",
    "    return emoji_pattern.sub(r'', string)\n",
    "\n",
    "bitcoin_df[\"text\"] = bitcoin_df[\"text\"].apply(lambda text: remove_emoji(text))\n",
    "\n",
    "ethereum_df[\"text\"] = ethereum_df[\"text\"].apply(lambda text: remove_emoji(text))\n",
    "\n",
    "litecoin_df[\"text\"] = litecoin_df[\"text\"].apply(lambda text: remove_emoji(text))"
   ]
  },
  {
   "cell_type": "code",
   "execution_count": null,
   "metadata": {},
   "outputs": [],
   "source": [
    "#Lemmatization with PART OF SPEECH TAGGING\n",
    "import nltk\n",
    "\n",
    "from nltk.corpus import wordnet\n",
    "from nltk.stem import WordNetLemmatizer\n",
    "\n",
    "lemmatizer = WordNetLemmatizer()\n",
    "wordnet_map = {\"N\":wordnet.NOUN, \"V\":wordnet.VERB, \"J\":wordnet.ADJ, \"R\":wordnet.ADV}\n",
    "def lemmatize_words(text):\n",
    "    pos_tagged_text = nltk.pos_tag(text.split())\n",
    "    return \" \".join([lemmatizer.lemmatize(word, wordnet_map.get(pos[0], wordnet.NOUN)) for word, pos in pos_tagged_text])\n",
    "\n",
    "bitcoin_df[\"text\"] = bitcoin_df[\"text\"].apply(lambda text: lemmatize_words(text))\n",
    "\n",
    "ethereum_df[\"text\"] = ethereum_df[\"text\"].apply(lambda text: lemmatize_words(text))\n",
    "\n",
    "litecoin_df[\"text\"] = litecoin_df[\"text\"].apply(lambda text: lemmatize_words(text))"
   ]
  },
  {
   "cell_type": "code",
   "execution_count": null,
   "metadata": {},
   "outputs": [],
   "source": [
    "from textblob import TextBlob\n",
    "\n",
    "def getPolarity(Tweet):\n",
    "    return TextBlob(Tweet).sentiment.polarity"
   ]
  },
  {
   "cell_type": "code",
   "execution_count": null,
   "metadata": {},
   "outputs": [],
   "source": [
    "from textblob import TextBlob\n",
    "\n",
    "def getPolarity(Tweet):\n",
    "    return TextBlob(Tweet).sentiment.polarity\n",
    "\n",
    "bitcoin_df['Polarity'] = bitcoin_df['text'].apply(getPolarity)\n",
    "\n",
    "ethereum_df['Polarity'] = ethereum_df['text'].apply(getPolarity)\n",
    "\n",
    "litecoin_df['Polarity'] = litecoin_df['text'].apply(getPolarity)"
   ]
  },
  {
   "cell_type": "code",
   "execution_count": null,
   "metadata": {},
   "outputs": [],
   "source": [
    "def getSentiment(score):\n",
    "    if score < 0:\n",
    "        return 'Negative'\n",
    "    elif score == 0:\n",
    "        return 'Neutral'\n",
    "    else:\n",
    "        return 'Positive'\n",
    "\n",
    "bitcoin_df['Sentiment'] = bitcoin_df['Polarity'].apply(getSentiment)\n",
    "\n",
    "ethereum_df['Sentiment'] = ethereum_df['Polarity'].apply(getSentiment)\n",
    "\n",
    "litecoin_df['Sentiment'] = litecoin_df['Polarity'].apply(getSentiment)"
   ]
  },
  {
   "cell_type": "code",
   "execution_count": null,
   "metadata": {},
   "outputs": [],
   "source": [
    "bitcoin_df.head()"
   ]
  },
  {
   "cell_type": "code",
   "execution_count": null,
   "metadata": {},
   "outputs": [],
   "source": [
    "ethereum_df.head()"
   ]
  },
  {
   "cell_type": "code",
   "execution_count": null,
   "metadata": {},
   "outputs": [],
   "source": [
    "litecoin_df.head()"
   ]
  },
  {
   "cell_type": "code",
   "execution_count": null,
   "metadata": {},
   "outputs": [],
   "source": [
    "import matplotlib.pyplot as plt\n",
    "#pie chart counting Positive, Negative and Neutral tweets\n",
    "fig1, (ax1, ax2, ax3) = plt.subplots(1, 3)\n",
    "labels = ['Neutral','Positive','Negative']\n",
    "colors = ['lightskyblue','limegreen','red']\n",
    "fig1.suptitle('Cryptocurrency Sentiment distribution (Bitcoin, Ethereum, Litecoin)')\n",
    "\n",
    "ax1.pie(bitcoin_df['Sentiment'].value_counts(), autopct='%1.00f%%',\n",
    "        shadow=True, startangle=90, labels = labels, colors=colors)\n",
    "ax1.axis('equal')\n",
    "\n",
    "ax2.pie(ethereum_df['Sentiment'].value_counts(), autopct='%1.00f%%',\n",
    "        shadow=True, startangle=90, labels = labels, colors=colors)\n",
    "ax2.axis('equal')\n",
    "\n",
    "ax3.pie(litecoin_df['Sentiment'].value_counts(), autopct='%1.00f%%',\n",
    "        shadow=True, startangle=90, labels = labels, colors=colors)\n",
    "ax3.axis('equal')"
   ]
  },
  {
   "cell_type": "code",
   "execution_count": null,
   "metadata": {},
   "outputs": [],
   "source": [
    "bitcoin_prices = pd.read_csv('D:/VisualStudioCode/Diploma/Binance_BTCUSDT_d.csv',usecols=['date','close','tradecount'])\n",
    "bitcoin_prices = bitcoin_prices.rename(columns = {'date':'time','close': 'price'}, inplace = False)\n",
    "\n",
    "ethereum_prices = pd.read_csv('D:/VisualStudioCode/Diploma/Binance_ETHUSDT_d.csv',usecols=['date','close','tradecount'])\n",
    "ethereum_prices = ethereum_prices.rename(columns = {'date':'time','close': 'price'}, inplace = False)\n",
    "\n",
    "litecoin_prices = pd.read_csv('D:/VisualStudioCode/Diploma/Binance_LTCUSDT_d.csv',usecols=['date','close','tradecount'])\n",
    "litecoin_prices = litecoin_prices.rename(columns = {'date':'time','close': 'price'}, inplace = False)\n"
   ]
  },
  {
   "cell_type": "code",
   "execution_count": null,
   "metadata": {},
   "outputs": [],
   "source": [
    "#changing datetype\n",
    "\n",
    "bitcoin_prices['time'] = pd.to_datetime(bitcoin_prices.time)\n",
    "bitcoin_prices['time'] = pd.to_datetime(bitcoin_prices['time'].dt.strftime('%m-%d-%Y'))\n",
    "\n",
    "ethereum_prices['time'] = pd.to_datetime(ethereum_prices.time)\n",
    "ethereum_prices['time'] = pd.to_datetime(ethereum_prices['time'].dt.strftime('%m-%d-%Y'))\n",
    "\n",
    "litecoin_prices['time'] = pd.to_datetime(litecoin_prices.time)\n",
    "litecoin_prices['time'] = pd.to_datetime(litecoin_prices['time'].dt.strftime('%m-%d-%Y'))\n",
    "\n",
    "print(bitcoin_prices.dtypes)\n",
    "print(ethereum_prices.dtypes)\n",
    "print(litecoin_prices.dtypes)"
   ]
  },
  {
   "cell_type": "code",
   "execution_count": null,
   "metadata": {},
   "outputs": [],
   "source": [
    "bitcoin_df[[\"time\", \"Polarity\"]].groupby(\"time\").mean().plot(figsize=(10,6))\n",
    "plt.xlabel('Date')\n",
    "plt.ylabel('Sentiment')\n",
    "plt.title('Bitcoin Twitter Sentiment over time')"
   ]
  },
  {
   "cell_type": "code",
   "execution_count": null,
   "metadata": {},
   "outputs": [],
   "source": [
    "ethereum_df[[\"time\", \"Polarity\"]].groupby(\"time\").mean().plot(figsize=(10,6))\n",
    "plt.xlabel('Date')\n",
    "plt.ylabel('Sentiment')\n",
    "plt.title('Ethereum Twitter Sentiment over time')"
   ]
  },
  {
   "cell_type": "code",
   "execution_count": null,
   "metadata": {},
   "outputs": [],
   "source": [
    "litecoin_df[[\"time\", \"Polarity\"]].groupby(\"time\").mean().plot(figsize=(10,6))\n",
    "plt.xlabel('Date')\n",
    "plt.ylabel('Sentiment')\n",
    "plt.title('Litecoin Twitter Sentiment over time')"
   ]
  },
  {
   "cell_type": "code",
   "execution_count": null,
   "metadata": {},
   "outputs": [],
   "source": [
    "plt.figure(figsize=(10,6))\n",
    "plt.plot(bitcoin_prices['time'],bitcoin_prices['price'])\n",
    "plt.xlabel('Date')\n",
    "plt.ylabel('Price')\n",
    "plt.title('Bitcoin price over time')\n"
   ]
  },
  {
   "cell_type": "code",
   "execution_count": null,
   "metadata": {},
   "outputs": [],
   "source": [
    "plt.figure(figsize=(10,6))\n",
    "plt.plot(ethereum_prices['time'],ethereum_prices['price'])\n",
    "plt.xlabel('Date')\n",
    "plt.ylabel('Price')\n",
    "plt.title('Ethereum price over time')"
   ]
  },
  {
   "cell_type": "code",
   "execution_count": null,
   "metadata": {},
   "outputs": [],
   "source": [
    "plt.figure(figsize=(15,7))\n",
    "plt.plot(litecoin_prices['time'],litecoin_prices['price'])\n",
    "plt.xlabel('Date')\n",
    "plt.ylabel('Price')\n",
    "plt.title('Litecoin price over time')"
   ]
  },
  {
   "cell_type": "code",
   "execution_count": null,
   "metadata": {},
   "outputs": [],
   "source": [
    "bitcoin_sent = bitcoin_df[[\"time\", \"Polarity\"]].groupby(\"time\").mean()\n",
    "\n",
    "ethereum_sent = ethereum_df[[\"time\", \"Polarity\"]].groupby(\"time\").mean()\n",
    "\n",
    "litecoin_sent = litecoin_df[[\"time\", \"Polarity\"]].groupby(\"time\").mean()"
   ]
  },
  {
   "cell_type": "code",
   "execution_count": null,
   "metadata": {},
   "outputs": [],
   "source": [
    "bitcoin_complete = pd.merge(bitcoin_sent,bitcoin_prices,how='left',on= ['time'])\n",
    "\n",
    "ethereum_complete = pd.merge(ethereum_sent,ethereum_prices,how='left',on= ['time'])\n",
    "\n",
    "litecoin_complete = pd.merge(litecoin_sent,litecoin_prices,how='left',on= ['time'])"
   ]
  },
  {
   "cell_type": "code",
   "execution_count": null,
   "metadata": {},
   "outputs": [],
   "source": [
    "fig, ax1 = plt.subplots(figsize = (12,6))\n",
    "\n",
    "color = 'tab:blue'\n",
    "ax1.set_title('Bitcoin sentiment and price over time')\n",
    "ax1.set_xlabel('days')\n",
    "ax1.set_ylabel('Sentiment', color=color)\n",
    "ax1.plot(bitcoin_complete['Polarity'], color=color)\n",
    "ax1.tick_params(axis='y', labelcolor=color)\n",
    "\n",
    "ax2 = ax1.twinx()  # instantiate a second axes that shares the same x-axis\n",
    "\n",
    "color = 'tab:red'\n",
    "ax2.set_ylabel('price', color=color)  # we already handled the x-label with ax1\n",
    "ax2.plot(bitcoin_complete['price'], color=color)\n",
    "ax2.tick_params(axis='y', labelcolor=color)\n",
    "\n",
    "fig.tight_layout()  # otherwise the right y-label is slightly clipped\n",
    "plt.show()\n"
   ]
  },
  {
   "cell_type": "code",
   "execution_count": null,
   "metadata": {},
   "outputs": [],
   "source": [
    "fig, ax1 = plt.subplots(figsize = (12,6))\n",
    "\n",
    "color = 'tab:blue'\n",
    "ax1.set_title('Bitcoin sentiment and trades over time')\n",
    "ax1.set_xlabel('date')\n",
    "ax1.set_ylabel('Sentiment', color=color)\n",
    "ax1.plot(bitcoin_complete['Polarity'], color=color)\n",
    "ax1.tick_params(axis='y', labelcolor=color)\n",
    "\n",
    "ax2 = ax1.twinx()  # instantiate a second axes that shares the same x-axis\n",
    "\n",
    "color = 'tab:red'\n",
    "ax2.set_ylabel('number of trades', color=color)  # we already handled the x-label with ax1\n",
    "ax2.plot(bitcoin_complete['tradecount'], color=color)\n",
    "ax2.tick_params(axis='y', labelcolor=color)\n",
    "\n",
    "fig.tight_layout()  # otherwise the right y-label is slightly clipped\n",
    "plt.show()\n"
   ]
  },
  {
   "cell_type": "code",
   "execution_count": null,
   "metadata": {},
   "outputs": [],
   "source": [
    "fig, ax1 = plt.subplots(figsize = (12,6))\n",
    "\n",
    "color = 'tab:blue'\n",
    "ax1.set_title('Ethereum sentiment and price over time')\n",
    "ax1.set_xlabel('date')\n",
    "ax1.set_ylabel('Sentiment', color=color)\n",
    "ax1.plot(ethereum_complete['Polarity'], color=color)\n",
    "ax1.tick_params(axis='y', labelcolor=color)\n",
    "\n",
    "ax2 = ax1.twinx()  # instantiate a second axes that shares the same x-axis\n",
    "\n",
    "color = 'tab:red'\n",
    "ax2.set_ylabel('price', color=color)  # we already handled the x-label with ax1\n",
    "ax2.plot(ethereum_complete['price'], color=color)\n",
    "ax2.tick_params(axis='y', labelcolor=color)\n",
    "\n",
    "fig.tight_layout()  # otherwise the right y-label is slightly clipped\n",
    "plt.show()\n"
   ]
  },
  {
   "cell_type": "code",
   "execution_count": null,
   "metadata": {},
   "outputs": [],
   "source": [
    "fig, ax1 = plt.subplots(figsize = (12,6))\n",
    "\n",
    "color = 'tab:blue'\n",
    "ax1.set_title('Ethereum sentiment and trades over time')\n",
    "ax1.set_xlabel('date')\n",
    "ax1.set_ylabel('Sentiment', color=color)\n",
    "ax1.plot(ethereum_complete['Polarity'], color=color)\n",
    "ax1.tick_params(axis='y', labelcolor=color)\n",
    "\n",
    "ax2 = ax1.twinx()  # instantiate a second axes that shares the same x-axis\n",
    "\n",
    "color = 'tab:red'\n",
    "ax2.set_ylabel('number of trades', color=color)  # we already handled the x-label with ax1\n",
    "ax2.plot(ethereum_complete['tradecount'], color=color)\n",
    "ax2.tick_params(axis='y', labelcolor=color)\n",
    "\n",
    "fig.tight_layout()  # otherwise the right y-label is slightly clipped\n",
    "plt.show()\n"
   ]
  },
  {
   "cell_type": "code",
   "execution_count": null,
   "metadata": {},
   "outputs": [],
   "source": [
    "fig, ax1 = plt.subplots(figsize = (12,6))\n",
    "\n",
    "color = 'tab:blue'\n",
    "ax1.set_title('Litecoin sentiment and price over time')\n",
    "ax1.set_xlabel('date')\n",
    "ax1.set_ylabel('Sentiment', color=color)\n",
    "ax1.plot(litecoin_complete['Polarity'], color=color)\n",
    "ax1.tick_params(axis='y', labelcolor=color)\n",
    "\n",
    "ax2 = ax1.twinx()  # instantiate a second axes that shares the same x-axis\n",
    "\n",
    "color = 'tab:red'\n",
    "ax2.set_ylabel('price', color=color)  # we already handled the x-label with ax1\n",
    "ax2.plot(litecoin_complete['price'], color=color)\n",
    "ax2.tick_params(axis='y', labelcolor=color)\n",
    "\n",
    "fig.tight_layout()  # otherwise the right y-label is slightly clipped\n",
    "plt.show()\n"
   ]
  },
  {
   "cell_type": "code",
   "execution_count": null,
   "metadata": {},
   "outputs": [],
   "source": [
    "fig, ax1 = plt.subplots(figsize = (12,6))\n",
    "\n",
    "color = 'tab:blue'\n",
    "ax1.set_title('Litecoin sentiment and trades over time')\n",
    "ax1.set_xlabel('date')\n",
    "ax1.set_ylabel('Sentiment', color=color)\n",
    "ax1.plot(litecoin_complete['Polarity'], color=color)\n",
    "ax1.tick_params(axis='y', labelcolor=color)\n",
    "\n",
    "ax2 = ax1.twinx()  # instantiate a second axes that shares the same x-axis\n",
    "\n",
    "color = 'tab:red'\n",
    "ax2.set_ylabel('number of trades', color=color)  # we already handled the x-label with ax1\n",
    "ax2.plot(litecoin_complete['tradecount'], color=color)\n",
    "ax2.tick_params(axis='y', labelcolor=color)\n",
    "\n",
    "fig.tight_layout()  # otherwise the right y-label is slightly clipped\n",
    "plt.show()\n"
   ]
  },
  {
   "cell_type": "code",
   "execution_count": null,
   "metadata": {},
   "outputs": [],
   "source": [
    "bitcoin_complete['price'].corr(bitcoin_complete['Polarity'],method='pearson')"
   ]
  },
  {
   "cell_type": "code",
   "execution_count": null,
   "metadata": {},
   "outputs": [],
   "source": [
    "bitcoin_complete['tradecount'].corr(ethereum_complete['Polarity'],method='pearson')"
   ]
  },
  {
   "cell_type": "code",
   "execution_count": null,
   "metadata": {},
   "outputs": [],
   "source": [
    "bitcoin_complete['tradecount'].corr(ethereum_complete['price'],method='pearson')"
   ]
  },
  {
   "cell_type": "code",
   "execution_count": null,
   "metadata": {},
   "outputs": [],
   "source": [
    "ethereum_complete['price'].corr(ethereum_complete['Polarity'],method='pearson')"
   ]
  },
  {
   "cell_type": "code",
   "execution_count": null,
   "metadata": {},
   "outputs": [],
   "source": [
    "ethereum_complete['tradecount'].corr(ethereum_complete['Polarity'],method='pearson')"
   ]
  },
  {
   "cell_type": "code",
   "execution_count": null,
   "metadata": {},
   "outputs": [],
   "source": [
    "ethereum_complete['tradecount'].corr(ethereum_complete['price'],method='pearson')"
   ]
  },
  {
   "cell_type": "code",
   "execution_count": null,
   "metadata": {},
   "outputs": [],
   "source": [
    "litecoin_complete['price'].corr(litecoin_complete['Polarity'],method='pearson')"
   ]
  },
  {
   "cell_type": "code",
   "execution_count": null,
   "metadata": {},
   "outputs": [],
   "source": [
    "litecoin_complete['tradecount'].corr(litecoin_complete['Polarity'],method='pearson')"
   ]
  },
  {
   "cell_type": "code",
   "execution_count": null,
   "metadata": {},
   "outputs": [],
   "source": [
    "litecoin_complete['tradecount'].corr(litecoin_complete['price'],method='pearson')"
   ]
  },
  {
   "cell_type": "code",
   "execution_count": null,
   "metadata": {},
   "outputs": [],
   "source": [
    "import seaborn as sns \n",
    "ax = plt.axes()\n",
    "sns.heatmap(bitcoin_complete.corr(),vmin = -1, vmax = 1, \n",
    "xticklabels = ['Sentiment', 'Price', 'Number of trades'], \n",
    "yticklabels = ['Sentiment', 'Price', 'Number of trades'])\n",
    "\n",
    "ax.set_title('Bitcoin correlation heatmap')"
   ]
  },
  {
   "cell_type": "code",
   "execution_count": null,
   "metadata": {},
   "outputs": [],
   "source": [
    "ax = plt.axes()\n",
    "\n",
    "sns.heatmap(ethereum_complete.corr(), vmin = -1, vmax = 1, \n",
    "xticklabels = ['Sentiment', 'Price', 'Number of trades'], \n",
    "yticklabels = ['Sentiment', 'Price', 'Number of trades'])\n",
    "\n",
    "ax.set_title('Ethereum correlation heatmap')"
   ]
  },
  {
   "cell_type": "code",
   "execution_count": null,
   "metadata": {},
   "outputs": [],
   "source": [
    "ax = plt.axes()\n",
    "\n",
    "sns.heatmap(litecoin_complete.corr(), vmin = -1, vmax = 1, \n",
    "xticklabels = ['Sentiment', 'Price', 'Number of trades'], \n",
    "yticklabels = ['Sentiment', 'Price', 'Number of trades'])\n",
    "\n",
    "ax.set_title('Litecoin correlation heatmap')"
   ]
  },
  {
   "cell_type": "code",
   "execution_count": null,
   "metadata": {},
   "outputs": [],
   "source": []
  }
 ],
 "metadata": {
  "interpreter": {
   "hash": "cc5f70855ac006f3de45a3cc3b9e7d8d53845e50458809cb162b0174266dec97"
  },
  "kernelspec": {
   "display_name": "Python 3.8.8 64-bit ('base': conda)",
   "language": "python",
   "name": "python3"
  },
  "language_info": {
   "codemirror_mode": {
    "name": "ipython",
    "version": 3
   },
   "file_extension": ".py",
   "mimetype": "text/x-python",
   "name": "python",
   "nbconvert_exporter": "python",
   "pygments_lexer": "ipython3",
   "version": "3.8.8"
  },
  "orig_nbformat": 4
 },
 "nbformat": 4,
 "nbformat_minor": 2
}
