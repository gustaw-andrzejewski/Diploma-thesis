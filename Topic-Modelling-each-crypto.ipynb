{
 "cells": [
  {
   "cell_type": "code",
   "execution_count": null,
   "metadata": {},
   "outputs": [],
   "source": [
    "import glob\n",
    "import pandas as pd\n",
    "\n",
    "# get data file names\n",
    "path =r'D:/VisualStudioCode/twitter data/bitcoin'\n",
    "filenames = glob.glob(path + \"/*.csv\")\n",
    "\n",
    "dfs = []\n",
    "for filename in filenames:\n",
    "    dfs.append(pd.read_csv(filename))\n",
    "\n",
    "path1 =r'D:/VisualStudioCode/twitter data/ethereum'\n",
    "filenames1 = glob.glob(path1 + \"/*.csv\")\n",
    "\n",
    "dfs1 = []\n",
    "for filename in filenames1:\n",
    "    dfs1.append(pd.read_csv(filename))\n",
    "\n",
    "path2 =r'D:/VisualStudioCode/twitter data/litecoin'\n",
    "filenames2 = glob.glob(path2 + \"/*.csv\")\n",
    "\n",
    "dfs2 = []\n",
    "for filename in filenames2:\n",
    "    dfs2.append(pd.read_csv(filename))\n",
    "\n",
    "# Concatenate all data into one DataFrame\n",
    "bitcoin_df = pd.concat(dfs, ignore_index=True)\n",
    "bitcoin_df = pd.DataFrame(bitcoin_df[['tweets','likes','time']])\n",
    "\n",
    "ethereum_df = pd.concat(dfs1, ignore_index=True)\n",
    "ethereum_df = pd.DataFrame(ethereum_df[['tweets','likes','time']])\n",
    "\n",
    "litecoin_df = pd.concat(dfs2, ignore_index=True)\n",
    "litecoin_df = pd.DataFrame(litecoin_df[['tweets','likes','time']])\n",
    "\n",
    "bitcoin_df.head()\n"
   ]
  },
  {
   "cell_type": "code",
   "execution_count": null,
   "metadata": {},
   "outputs": [],
   "source": [
    "ethereum_df.head()"
   ]
  },
  {
   "cell_type": "code",
   "execution_count": null,
   "metadata": {},
   "outputs": [],
   "source": [
    "litecoin_df.head()"
   ]
  },
  {
   "cell_type": "code",
   "execution_count": null,
   "metadata": {},
   "outputs": [],
   "source": [
    "#dropping retweets\n",
    "bitcoin_df = bitcoin_df[~bitcoin_df.tweets.str.contains('RT')]\n",
    "bitcoin_df = bitcoin_df.reset_index(drop=True)\n",
    "\n",
    "ethereum_df = ethereum_df[~ethereum_df.tweets.str.contains('RT')]\n",
    "ethereum_df = ethereum_df.reset_index(drop=True)\n",
    "\n",
    "litecoin_df = litecoin_df[~litecoin_df.tweets.str.contains('RT')]\n",
    "litecoin_df = litecoin_df.reset_index(drop=True)"
   ]
  },
  {
   "cell_type": "code",
   "execution_count": null,
   "metadata": {},
   "outputs": [],
   "source": [
    "#initial cleaning of the tweets \n",
    "import re\n",
    "\n",
    "def cleanTweet(Tweet):\n",
    "    Tweet = re.sub('#[A-Za-z0-9]+',' ', Tweet)\n",
    "    Tweet = re.sub('@[A-Za-z0-9]+',' ', Tweet)\n",
    "    Tweet = re.sub('\\\\n', '', Tweet)\n",
    "    Tweet = re.sub('https?:\\/\\/\\S+',' ', Tweet)\n",
    "    Tweet = re.sub('[0-9]', ' ', Tweet)\n",
    "    return Tweet  \n",
    "\n",
    "bitcoin_df['tweets'] = bitcoin_df['tweets'].apply(cleanTweet)\n",
    "\n",
    "ethereum_df['tweets'] = ethereum_df['tweets'].apply(cleanTweet)\n",
    "\n",
    "litecoin_df['tweets'] = litecoin_df['tweets'].apply(cleanTweet)\n"
   ]
  },
  {
   "cell_type": "code",
   "execution_count": null,
   "metadata": {},
   "outputs": [],
   "source": [
    "bitcoin_df = pd.DataFrame(bitcoin_df['tweets'])\n",
    "bitcoin_df['text'] = bitcoin_df['tweets']\n",
    "\n",
    "ethereum_df = pd.DataFrame(ethereum_df['tweets'])\n",
    "ethereum_df['text'] = ethereum_df['tweets']\n",
    "\n",
    "litecoin_df = pd.DataFrame(litecoin_df['tweets'])\n",
    "litecoin_df['text'] = litecoin_df['tweets']\n"
   ]
  },
  {
   "cell_type": "code",
   "execution_count": null,
   "metadata": {},
   "outputs": [],
   "source": [
    "#lowercasing\n",
    "import string\n",
    "\n",
    "bitcoin_df['text'] = bitcoin_df[\"text\"].str.lower()\n",
    "\n",
    "ethereum_df['text'] = ethereum_df[\"text\"].str.lower()\n",
    "\n",
    "litecoin_df['text'] = litecoin_df[\"text\"].str.lower()"
   ]
  },
  {
   "cell_type": "code",
   "execution_count": null,
   "metadata": {},
   "outputs": [],
   "source": [
    "#removing punctuation\n",
    "\n",
    "def remove_punctuation(text):\n",
    "    return text.translate(str.maketrans('', '', string.punctuation))\n",
    "\n",
    "bitcoin_df[\"text\"] = bitcoin_df[\"text\"].apply(lambda text: remove_punctuation(text))\n",
    "\n",
    "ethereum_df[\"text\"] = ethereum_df[\"text\"].apply(lambda text: remove_punctuation(text))\n",
    "\n",
    "litecoin_df[\"text\"] = litecoin_df[\"text\"].apply(lambda text: remove_punctuation(text))"
   ]
  },
  {
   "cell_type": "code",
   "execution_count": null,
   "metadata": {},
   "outputs": [],
   "source": [
    "#removing stopwords\n",
    "\n",
    "from nltk.corpus import stopwords\n",
    "\n",
    "STOPWORDS = set(stopwords.words('english'))\n",
    "def remove_stopwords(text):\n",
    "    return \" \".join([word for word in str(text).split() if word not in STOPWORDS])\n",
    "\n",
    "bitcoin_df[\"text\"] = bitcoin_df[\"text\"].apply(lambda text: remove_stopwords(text))\n",
    "\n",
    "ethereum_df[\"text\"] = ethereum_df[\"text\"].apply(lambda text: remove_stopwords(text))\n",
    "\n",
    "litecoin_df[\"text\"] = litecoin_df[\"text\"].apply(lambda text: remove_stopwords(text))\n"
   ]
  },
  {
   "cell_type": "code",
   "execution_count": null,
   "metadata": {},
   "outputs": [],
   "source": [
    "#removing emojis\n",
    "import re\n",
    "def remove_emoji(string):\n",
    "    emoji_pattern = re.compile(\"[\"\n",
    "                           u\"\\U0001F600-\\U0001F64F\"  # emoticons\n",
    "                           u\"\\U0001F300-\\U0001F5FF\"  # symbols & pictographs\n",
    "                           u\"\\U0001F680-\\U0001F6FF\"  # transport & map symbols\n",
    "                           u\"\\U0001F1E0-\\U0001F1FF\"  # flags (iOS)\n",
    "                           u\"\\U00002702-\\U000027B0\"\n",
    "                           u\"\\U000024C2-\\U0001F251\"\n",
    "                           \"]+\", flags=re.UNICODE)\n",
    "    return emoji_pattern.sub(r'', string)\n",
    "\n",
    "bitcoin_df[\"text\"] = bitcoin_df[\"text\"].apply(lambda text: remove_emoji(text))\n",
    "\n",
    "ethereum_df[\"text\"] = ethereum_df[\"text\"].apply(lambda text: remove_emoji(text))\n",
    "\n",
    "litecoin_df[\"text\"] = litecoin_df[\"text\"].apply(lambda text: remove_emoji(text))"
   ]
  },
  {
   "cell_type": "code",
   "execution_count": null,
   "metadata": {},
   "outputs": [],
   "source": [
    "#Lemmatization with PART OF SPEECH TAGGING\n",
    "import nltk\n",
    "\n",
    "from nltk.corpus import wordnet\n",
    "from nltk.stem import WordNetLemmatizer\n",
    "\n",
    "lemmatizer = WordNetLemmatizer()\n",
    "wordnet_map = {\"N\":wordnet.NOUN, \"V\":wordnet.VERB, \"J\":wordnet.ADJ, \"R\":wordnet.ADV}\n",
    "def lemmatize_words(text):\n",
    "    pos_tagged_text = nltk.pos_tag(text.split())\n",
    "    return \" \".join([lemmatizer.lemmatize(word, wordnet_map.get(pos[0], wordnet.NOUN)) for word, pos in pos_tagged_text])\n",
    "\n",
    "bitcoin_df[\"text\"] = bitcoin_df[\"text\"].apply(lambda text: lemmatize_words(text))\n",
    "\n",
    "ethereum_df[\"text\"] = ethereum_df[\"text\"].apply(lambda text: lemmatize_words(text))\n",
    "\n",
    "litecoin_df[\"text\"] = litecoin_df[\"text\"].apply(lambda text: lemmatize_words(text))"
   ]
  },
  {
   "cell_type": "code",
   "execution_count": null,
   "metadata": {},
   "outputs": [],
   "source": [
    "# frequent words\n",
    "\n",
    "btc = ['bitcoin', 'btc']\n",
    "\n",
    "eth = ['ethereum', 'eth']\n",
    "\n",
    "ltc = ['litecoin', 'ltc']"
   ]
  },
  {
   "cell_type": "code",
   "execution_count": null,
   "metadata": {},
   "outputs": [],
   "source": [
    "def remove_freqwords(text, freqwords):\n",
    "    return \" \".join([word for word in str(text).split() if word not in freqwords])\n",
    "\n",
    "bitcoin_df[\"text\"] = bitcoin_df[\"text\"].apply(lambda text: remove_freqwords(text, btc))\n",
    "\n",
    "ethereum_df[\"text\"] = ethereum_df[\"text\"].apply(lambda text: remove_freqwords(text, eth))\n",
    "\n",
    "litecoin_df[\"text\"] = litecoin_df[\"text\"].apply(lambda text: remove_freqwords(text, ltc))\n"
   ]
  },
  {
   "cell_type": "code",
   "execution_count": null,
   "metadata": {},
   "outputs": [],
   "source": [
    "#import libraries for LDA\n",
    "import gensim\n",
    "import gensim.corpora as corpora\n",
    "from gensim.utils import simple_preprocess\n",
    "from gensim.models import CoherenceModel\n",
    "\n",
    "import pyLDAvis\n",
    "import pyLDAvis.gensim_models  \n",
    "import matplotlib.pyplot as plt\n",
    "%matplotlib inline\n",
    "\n",
    "from pprint import pprint"
   ]
  },
  {
   "cell_type": "code",
   "execution_count": null,
   "metadata": {},
   "outputs": [],
   "source": [
    "#convert to list\n",
    "topic_btc = bitcoin_df.text.values.tolist()\n",
    "\n",
    "topic_eth = ethereum_df.text.values.tolist()\n",
    "\n",
    "topic_ltc = litecoin_df.text.values.tolist()"
   ]
  },
  {
   "cell_type": "code",
   "execution_count": null,
   "metadata": {},
   "outputs": [],
   "source": [
    "def tokenize(sentences):\n",
    "    for sentence in sentences:\n",
    "        yield(gensim.utils.simple_preprocess(str(sentence), deacc=True)) \n",
    "\n",
    "topic_words_btc = list(tokenize(topic_btc))\n",
    "\n",
    "topic_words_eth = list(tokenize(topic_eth))\n",
    "\n",
    "topic_words_ltc = list(tokenize(topic_ltc))"
   ]
  },
  {
   "cell_type": "code",
   "execution_count": null,
   "metadata": {},
   "outputs": [],
   "source": [
    "#Dictionary\n",
    "id2word_btc = corpora.Dictionary(topic_words_btc)\n",
    "id2word_eth = corpora.Dictionary(topic_words_eth)\n",
    "id2word_ltc = corpora.Dictionary(topic_words_ltc)\n",
    "#Corpus\n",
    "texts_btc = topic_words_btc\n",
    "texts_eth = topic_words_eth\n",
    "texts_ltc = topic_words_ltc\n",
    "\n",
    "#Term Document Frequency\n",
    "corpus_btc = [id2word_btc.doc2bow(text) for text in texts_btc]\n",
    "corpus_eth = [id2word_eth.doc2bow(text) for text in texts_eth]\n",
    "corpus_ltc = [id2word_ltc.doc2bow(text) for text in texts_ltc]"
   ]
  },
  {
   "cell_type": "code",
   "execution_count": null,
   "metadata": {},
   "outputs": [],
   "source": [
    "lda_model = gensim.models.ldamodel.LdaModel(corpus=corpus_btc,\n",
    "                                           id2word=id2word_btc,\n",
    "                                           num_topics=6, \n",
    "                                           random_state=100,\n",
    "                                           update_every=1,\n",
    "                                           chunksize=100,\n",
    "                                           passes=20,\n",
    "                                           alpha='auto',\n",
    "                                           per_word_topics=True)\n",
    "\n",
    "pprint(lda_model.print_topics())\n",
    "doc_lda = lda_model[corpus_btc]"
   ]
  },
  {
   "cell_type": "code",
   "execution_count": null,
   "metadata": {},
   "outputs": [],
   "source": [
    "from textblob import TextBlob\n",
    "\n",
    "def getPolarity(Tweet):\n",
    "    return TextBlob(Tweet).sentiment.polarity\n",
    "\n",
    "def getSentiment(score):\n",
    "    if score < 0:\n",
    "        return 'Negative'\n",
    "    elif score == 0:\n",
    "        return 'Neutral'\n",
    "    else:\n",
    "        return 'Positive'\n"
   ]
  },
  {
   "cell_type": "code",
   "execution_count": null,
   "metadata": {},
   "outputs": [],
   "source": [
    "# topics and their sentiment btc\n",
    "user_encouragment = 'Project go buy make crypto good great best future'\n",
    "finances = 'Get wallet money account world need currency'\n",
    "actions = 'Use value trading trade asset stock profit mining earn'\n",
    "\n",
    "print(getSentiment(getPolarity(user_encouragment)))\n",
    "print(getSentiment(getPolarity(finances)))\n",
    "print(getSentiment(getPolarity(actions)))\n"
   ]
  },
  {
   "cell_type": "code",
   "execution_count": null,
   "metadata": {},
   "outputs": [],
   "source": [
    "lda_model1 = gensim.models.ldamodel.LdaModel(corpus=corpus_eth,\n",
    "                                           id2word=id2word_eth,\n",
    "                                           num_topics=6, \n",
    "                                           random_state=100,\n",
    "                                           update_every=1,\n",
    "                                           chunksize=100,\n",
    "                                           passes=20,\n",
    "                                           alpha='auto',\n",
    "                                           per_word_topics=True)\n",
    "\n",
    "pprint(lda_model1.print_topics())\n",
    "doc_lda1 = lda_model1[corpus_eth]"
   ]
  },
  {
   "cell_type": "code",
   "execution_count": null,
   "metadata": {},
   "outputs": [],
   "source": [
    "# topics and their sentiment eth\n",
    "actions1 = 'Purchase buy get token market use'\n",
    "disruption = 'Project collectible game vision future best people time hope'\n",
    "real_world_application = 'Gas price transaction asset take change become'\n",
    "\n",
    "print(getSentiment(getPolarity(actions1)))\n",
    "print(getSentiment(getPolarity(disruption)))\n",
    "print(getSentiment(getPolarity(real_world_application)))"
   ]
  },
  {
   "cell_type": "code",
   "execution_count": null,
   "metadata": {},
   "outputs": [],
   "source": [
    "lda_model2 = gensim.models.ldamodel.LdaModel(corpus=corpus_ltc,\n",
    "                                           id2word=id2word_ltc,\n",
    "                                           num_topics=6, \n",
    "                                           random_state=100,\n",
    "                                           update_every=1,\n",
    "                                           chunksize=100,\n",
    "                                           passes=20,\n",
    "                                           alpha='auto',\n",
    "                                           per_word_topics=True)\n",
    "\n",
    "pprint(lda_model2.print_topics())\n",
    "doc_lda2 = lda_model2[corpus_btc]"
   ]
  },
  {
   "cell_type": "code",
   "execution_count": null,
   "metadata": {},
   "outputs": [],
   "source": [
    "# topics and their sentiment ltc\n",
    "actions2 = 'Get go buy coin market token earn trade money'\n",
    "success = 'Price expect peak transaction good want big'\n",
    "research = 'analysis daily news say follow keep tech'\n",
    "\n",
    "print(getSentiment(getPolarity(actions2)))\n",
    "print(getSentiment(getPolarity(success)))\n",
    "print(getSentiment(getPolarity(research)))"
   ]
  },
  {
   "cell_type": "code",
   "execution_count": null,
   "metadata": {},
   "outputs": [],
   "source": [
    "#Visualize the topics\n",
    "pyLDAvis.enable_notebook(local=True)\n",
    "vis = pyLDAvis.gensim_models.prepare(lda_model, corpus_btc, id2word_btc)\n",
    "pyLDAvis.display(vis)"
   ]
  },
  {
   "cell_type": "code",
   "execution_count": null,
   "metadata": {},
   "outputs": [],
   "source": []
  },
  {
   "cell_type": "code",
   "execution_count": null,
   "metadata": {},
   "outputs": [],
   "source": [
    "pyLDAvis.enable_notebook(local=True)\n",
    "vis1 = pyLDAvis.gensim_models.prepare(lda_model1, corpus_eth, id2word_eth)\n",
    "pyLDAvis.display(vis1)"
   ]
  },
  {
   "cell_type": "code",
   "execution_count": null,
   "metadata": {},
   "outputs": [],
   "source": [
    "pyLDAvis.enable_notebook(local=True)\n",
    "vis2 = pyLDAvis.gensim_models.prepare(lda_model2, corpus_ltc, id2word_ltc)\n",
    "pyLDAvis.display(vis2)"
   ]
  }
 ],
 "metadata": {
  "interpreter": {
   "hash": "cc5f70855ac006f3de45a3cc3b9e7d8d53845e50458809cb162b0174266dec97"
  },
  "kernelspec": {
   "display_name": "Python 3.8.8 64-bit ('base': conda)",
   "language": "python",
   "name": "python3"
  },
  "language_info": {
   "codemirror_mode": {
    "name": "ipython",
    "version": 3
   },
   "file_extension": ".py",
   "mimetype": "text/x-python",
   "name": "python",
   "nbconvert_exporter": "python",
   "pygments_lexer": "ipython3",
   "version": "3.8.8"
  },
  "orig_nbformat": 4
 },
 "nbformat": 4,
 "nbformat_minor": 2
}
