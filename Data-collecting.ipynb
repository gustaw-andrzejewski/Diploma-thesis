{
 "cells": [
  {
   "cell_type": "code",
   "execution_count": 14,
   "metadata": {},
   "outputs": [],
   "source": [
    "#importing libraries\n",
    "import tweepy\n",
    "import pandas as pd "
   ]
  },
  {
   "cell_type": "code",
   "execution_count": 15,
   "metadata": {},
   "outputs": [],
   "source": [
    "#key variables\n",
    "%run ./twitter-keys.ipynb"
   ]
  },
  {
   "cell_type": "code",
   "execution_count": 8,
   "metadata": {},
   "outputs": [],
   "source": [
    "#authentication\n",
    "auth = tweepy.OAuthHandler(consumer_key, consumer_secret_key)\n",
    "auth.set_access_token(access_token, access_secret_token)\n",
    "api = tweepy.API(auth, wait_on_rate_limit=True)"
   ]
  },
  {
   "cell_type": "code",
   "execution_count": null,
   "metadata": {},
   "outputs": [],
   "source": [
    "#getting tweets Bitcoin\n",
    "number_of_tweets = 5000\n",
    "tweets = []\n",
    "likes = []\n",
    "time = []\n",
    "\n",
    "for i in tweepy.Cursor(api.search, q=\"Bitcoin\",lang='en', tweet_mode=\"extended\").items(number_of_tweets):\n",
    "    tweets.append(i.full_text)\n",
    "    likes.append(i.favorite_count)\n",
    "    time.append(i.created_at)"
   ]
  },
  {
   "cell_type": "code",
   "execution_count": 9,
   "metadata": {},
   "outputs": [],
   "source": [
    "import tweepy\n",
    "\n",
    "auth = tweepy.OAuthHandler(consumer_key, consumer_secret_key)\n",
    "auth.set_access_token(access_token, access_secret_token)\n",
    "api = tweepy.API(auth, wait_on_rate_limit=True)\n",
    "\n",
    "number_of_tweets = 5000\n",
    "tweets = []\n",
    "likes = []\n",
    "time = []\n",
    "\n",
    "for i in tweepy.Cursor(api.search, q=\"Bitcoin\",lang='en', tweet_mode=\"extended\").items(number_of_tweets):\n",
    "    tweets.append(i.full_text)\n",
    "    likes.append(i.favorite_count)\n",
    "    time.append(i.created_at)"
   ]
  },
  {
   "cell_type": "code",
   "execution_count": 10,
   "metadata": {},
   "outputs": [],
   "source": [
    "#getting tweets Ethereum\n",
    "number_of_tweets = 5000\n",
    "tweets1 = []\n",
    "likes1 = []\n",
    "time1 = []\n",
    "\n",
    "for i in tweepy.Cursor(api.search, q=\"Ethereum\",lang='en', tweet_mode=\"extended\").items(number_of_tweets):\n",
    "    tweets1.append(i.full_text)\n",
    "    likes1.append(i.favorite_count)\n",
    "    time1.append(i.created_at)"
   ]
  },
  {
   "cell_type": "code",
   "execution_count": 11,
   "metadata": {},
   "outputs": [],
   "source": [
    "#getting tweets Litecoin\n",
    "number_of_tweets = 5000\n",
    "tweets2 = []\n",
    "likes2 = []\n",
    "time2 = []\n",
    "\n",
    "for i in tweepy.Cursor(api.search, q=\"Litecoin\",lang='en', tweet_mode=\"extended\").items(number_of_tweets):\n",
    "    tweets2.append(i.full_text)\n",
    "    likes2.append(i.favorite_count)\n",
    "    time2.append(i.created_at)"
   ]
  },
  {
   "cell_type": "code",
   "execution_count": 12,
   "metadata": {},
   "outputs": [],
   "source": [
    "bitcoin_df = pd.DataFrame({'tweets':tweets, 'likes':likes,'time':time})\n",
    "\n",
    "ethereum_df = pd.DataFrame({'tweets':tweets1, 'likes':likes1,'time':time1})\n",
    "\n",
    "litecoin_df = pd.DataFrame({'tweets':tweets2, 'likes':likes2,'time':time2})\n",
    "\n",
    "bitcoin_df.to_csv('D:/VisualStudioCode/twitter data/bitcoin/bitcoin_26-11-2021.csv')\n",
    "\n",
    "ethereum_df.to_csv('D:/VisualStudioCode/twitter data/ethereum/ethereum_26-11-2021.csv')\n",
    "\n",
    "litecoin_df.to_csv('D:/VisualStudioCode/twitter data/litecoin/litecoin_26-11-2021.csv')"
   ]
  },
  {
   "cell_type": "code",
   "execution_count": 13,
   "metadata": {},
   "outputs": [],
   "source": [
    "#saving dataframes to csv\n",
    "\n",
    "bitcoin_df.to_csv('D:/VisualStudioCode/twitter data/bitcoin/bitcoin_26-11-2021.csv')\n",
    "\n",
    "ethereum_df.to_csv('D:/VisualStudioCode/twitter data/ethereum/ethereum_26-11-2021.csv')\n",
    "\n",
    "litecoin_df.to_csv('D:/VisualStudioCode/twitter data/litecoin/litecoin_26-11-2021.csv')"
   ]
  }
 ],
 "metadata": {
  "interpreter": {
   "hash": "cc5f70855ac006f3de45a3cc3b9e7d8d53845e50458809cb162b0174266dec97"
  },
  "kernelspec": {
   "display_name": "Python 3.8.8 64-bit ('base': conda)",
   "name": "python3"
  },
  "language_info": {
   "codemirror_mode": {
    "name": "ipython",
    "version": 3
   },
   "file_extension": ".py",
   "mimetype": "text/x-python",
   "name": "python",
   "nbconvert_exporter": "python",
   "pygments_lexer": "ipython3",
   "version": "3.8.8"
  },
  "orig_nbformat": 4
 },
 "nbformat": 4,
 "nbformat_minor": 2
}
